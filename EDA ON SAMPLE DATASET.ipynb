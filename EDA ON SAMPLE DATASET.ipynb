{
 "cells": [
  {
   "cell_type": "markdown",
   "id": "2f041671",
   "metadata": {},
   "source": [
    "# DATA CLEANING "
   ]
  },
  {
   "cell_type": "markdown",
   "id": "a353c753",
   "metadata": {},
   "source": [
    "## Missing Values"
   ]
  },
  {
   "cell_type": "code",
   "execution_count": 2,
   "id": "b8dac141",
   "metadata": {},
   "outputs": [],
   "source": [
    "import pandas as pd"
   ]
  },
  {
   "cell_type": "markdown",
   "id": "0baab3d4",
   "metadata": {},
   "source": [
    "## Example DataFrame"
   ]
  },
  {
   "cell_type": "code",
   "execution_count": 4,
   "id": "df7ea181",
   "metadata": {},
   "outputs": [],
   "source": [
    "data = {'A': [1, 2, None, 4], 'B': [None, 2, 3, 4], 'C': [1, None, None, 4], 'D': [8, 0, 10, 3]}\n",
    "df = pd.DataFrame(data)"
   ]
  },
  {
   "cell_type": "markdown",
   "id": "a3fbf765",
   "metadata": {},
   "source": [
    "## Original DataFrame"
   ]
  },
  {
   "cell_type": "code",
   "execution_count": 5,
   "id": "d3360f9d",
   "metadata": {},
   "outputs": [
    {
     "name": "stdout",
     "output_type": "stream",
     "text": [
      "Original DataFrame:\n",
      "     A    B    C   D\n",
      "0  1.0  NaN  1.0   8\n",
      "1  2.0  2.0  NaN   0\n",
      "2  NaN  3.0  NaN  10\n",
      "3  4.0  4.0  4.0   3\n"
     ]
    }
   ],
   "source": [
    "print(\"Original DataFrame:\")\n",
    "print(df)"
   ]
  },
  {
   "cell_type": "markdown",
   "id": "31a5d59e",
   "metadata": {},
   "source": [
    "## Dropping rows with any missing values"
   ]
  },
  {
   "cell_type": "code",
   "execution_count": 6,
   "id": "2989c708",
   "metadata": {},
   "outputs": [
    {
     "name": "stdout",
     "output_type": "stream",
     "text": [
      "\n",
      "DataFrame after dropping rows with any missing values:\n",
      "     A    B    C  D\n",
      "3  4.0  4.0  4.0  3\n"
     ]
    }
   ],
   "source": [
    "df_cleaned_rows = df.dropna()\n",
    "print(\"\\nDataFrame after dropping rows with any missing values:\")\n",
    "print(df_cleaned_rows)"
   ]
  },
  {
   "cell_type": "markdown",
   "id": "0f45be15",
   "metadata": {},
   "source": [
    "## Dropping columns with any missing values"
   ]
  },
  {
   "cell_type": "code",
   "execution_count": 8,
   "id": "50c98a4a",
   "metadata": {},
   "outputs": [
    {
     "name": "stdout",
     "output_type": "stream",
     "text": [
      "\n",
      "DataFrame after dropping columns with any missing values:\n",
      "     A    B    C  D\n",
      "3  4.0  4.0  4.0  3\n"
     ]
    }
   ],
   "source": [
    "df_cleaned_columns = df.dropna(axis=1) #axis = 0 is for rows\n",
    "print(\"\\nDataFrame after dropping columns with any missing values:\")\n",
    "print(df_cleaned_columns)"
   ]
  },
  {
   "cell_type": "markdown",
   "id": "29b78635",
   "metadata": {},
   "source": [
    "## Filling missing values with a specific value (e.g., 0)"
   ]
  },
  {
   "cell_type": "code",
   "execution_count": 9,
   "id": "368be67c",
   "metadata": {},
   "outputs": [
    {
     "name": "stdout",
     "output_type": "stream",
     "text": [
      "\n",
      "DataFrame after filling missing values with 0:\n",
      "     A    B    C   D\n",
      "0  1.0  0.0  1.0   8\n",
      "1  2.0  2.0  0.0   0\n",
      "2  0.0  3.0  0.0  10\n",
      "3  4.0  4.0  4.0   3\n"
     ]
    }
   ],
   "source": [
    "df_filled = df.fillna(0)\n",
    "print(\"\\nDataFrame after filling missing values with 0:\")\n",
    "print(df_filled)"
   ]
  },
  {
   "cell_type": "markdown",
   "id": "2a0ecf09",
   "metadata": {},
   "source": [
    "## Filling missing values with the mean of the column"
   ]
  },
  {
   "cell_type": "code",
   "execution_count": 20,
   "id": "4e26d658",
   "metadata": {},
   "outputs": [
    {
     "name": "stdout",
     "output_type": "stream",
     "text": [
      "\n",
      "DataFrame after filling missing values with the mean of the column:\n",
      "          A    B    C   D\n",
      "0  1.000000  3.0  1.0   8\n",
      "1  2.000000  2.0  2.5   0\n",
      "2  2.333333  3.0  2.5  10\n",
      "3  4.000000  4.0  4.0   3\n"
     ]
    }
   ],
   "source": [
    "df_filled_mean = df.fillna(df.mean())\n",
    "print(\"\\nDataFrame after filling missing values with the mean of the column:\")\n",
    "print(df_filled_mean)\n",
    "#For categorical data use mode\n",
    "#For nunerical data use all 3 methods "
   ]
  },
  {
   "cell_type": "code",
   "execution_count": 21,
   "id": "c2d850c9",
   "metadata": {},
   "outputs": [
    {
     "data": {
      "text/plain": [
       "<bound method DataFrame.duplicated of      A    B    C   D\n",
       "0  1.0  NaN  1.0   8\n",
       "1  2.0  2.0  NaN   0\n",
       "2  NaN  3.0  NaN  10\n",
       "3  4.0  4.0  4.0   3>"
      ]
     },
     "execution_count": 21,
     "metadata": {},
     "output_type": "execute_result"
    }
   ],
   "source": [
    "df.duplicated"
   ]
  },
  {
   "cell_type": "code",
   "execution_count": 22,
   "id": "b4157ee8",
   "metadata": {},
   "outputs": [
    {
     "data": {
      "text/plain": [
       "<bound method DataFrame.drop_duplicates of      A    B    C   D\n",
       "0  1.0  NaN  1.0   8\n",
       "1  2.0  2.0  NaN   0\n",
       "2  NaN  3.0  NaN  10\n",
       "3  4.0  4.0  4.0   3>"
      ]
     },
     "execution_count": 22,
     "metadata": {},
     "output_type": "execute_result"
    }
   ],
   "source": [
    "df.drop_duplicates"
   ]
  },
  {
   "cell_type": "markdown",
   "id": "0b733f12",
   "metadata": {},
   "source": [
    "# OUTLIERS\n",
    "\n",
    "Identifying Outliers Before handling outliers, you need to identify them. Common methods include:\n",
    "\n",
    "Z-Score: Data points with a Z-score greater than 3 or less than -3 are often considered outliers.\n",
    "\n",
    "IQR (Interquartile Range): Data points that fall below 𝑄 1 − 1.5 × 𝐼 𝑄 𝑅 Q1−1.5×IQR or above 𝑄 3 + 1.5 × 𝐼 𝑄 𝑅 Q3+1.5×IQR are considered outliers.\n",
    "\n",
    "Visualization: Use box plots, scatter plots, or histograms to visually detect outliers."
   ]
  },
  {
   "cell_type": "code",
   "execution_count": 24,
   "id": "c325d18d",
   "metadata": {},
   "outputs": [],
   "source": [
    "import numpy as np\n",
    "from scipy import stats"
   ]
  },
  {
   "cell_type": "markdown",
   "id": "29f43f9d",
   "metadata": {},
   "source": [
    "## Example DataFrame"
   ]
  },
  {
   "cell_type": "code",
   "execution_count": 25,
   "id": "95edbced",
   "metadata": {},
   "outputs": [],
   "source": [
    "data = {'A': [1, 2, 3, 1000], 'B': [2, 3, 4, 5]}\n",
    "df = pd.DataFrame(data)"
   ]
  },
  {
   "cell_type": "markdown",
   "id": "ab32604f",
   "metadata": {},
   "source": [
    "## Original DataFrame"
   ]
  },
  {
   "cell_type": "code",
   "execution_count": 26,
   "id": "f7139b0c",
   "metadata": {},
   "outputs": [
    {
     "name": "stdout",
     "output_type": "stream",
     "text": [
      "Original DataFrame:\n",
      "      A  B\n",
      "0     1  2\n",
      "1     2  3\n",
      "2     3  4\n",
      "3  1000  5\n"
     ]
    }
   ],
   "source": [
    "print(\"Original DataFrame:\")\n",
    "print(df)"
   ]
  },
  {
   "cell_type": "markdown",
   "id": "88b26894",
   "metadata": {},
   "source": [
    "## Detecting outliers using the Z-score"
   ]
  },
  {
   "cell_type": "code",
   "execution_count": 27,
   "id": "89d27b0e",
   "metadata": {},
   "outputs": [
    {
     "name": "stdout",
     "output_type": "stream",
     "text": [
      "\n",
      "Z-scores for each data point:\n",
      "          A         B\n",
      "0  0.579664  1.341641\n",
      "1  0.577349  0.447214\n",
      "2  0.575035  0.447214\n",
      "3  1.732048  1.341641\n"
     ]
    }
   ],
   "source": [
    "z_scores = np.abs(stats.zscore(df)) #The function np.abs() is used to get the absolute values of the Z-scores\n",
    "print(\"\\nZ-scores for each data point:\")\n",
    "print(z_scores)"
   ]
  },
  {
   "cell_type": "code",
   "execution_count": 28,
   "id": "d51a980b",
   "metadata": {},
   "outputs": [
    {
     "data": {
      "text/html": [
       "<div>\n",
       "<style scoped>\n",
       "    .dataframe tbody tr th:only-of-type {\n",
       "        vertical-align: middle;\n",
       "    }\n",
       "\n",
       "    .dataframe tbody tr th {\n",
       "        vertical-align: top;\n",
       "    }\n",
       "\n",
       "    .dataframe thead th {\n",
       "        text-align: right;\n",
       "    }\n",
       "</style>\n",
       "<table border=\"1\" class=\"dataframe\">\n",
       "  <thead>\n",
       "    <tr style=\"text-align: right;\">\n",
       "      <th></th>\n",
       "      <th>A</th>\n",
       "      <th>B</th>\n",
       "    </tr>\n",
       "  </thead>\n",
       "  <tbody>\n",
       "    <tr>\n",
       "      <th>count</th>\n",
       "      <td>4.000000</td>\n",
       "      <td>4.000000</td>\n",
       "    </tr>\n",
       "    <tr>\n",
       "      <th>mean</th>\n",
       "      <td>251.500000</td>\n",
       "      <td>3.500000</td>\n",
       "    </tr>\n",
       "    <tr>\n",
       "      <th>std</th>\n",
       "      <td>499.000668</td>\n",
       "      <td>1.290994</td>\n",
       "    </tr>\n",
       "    <tr>\n",
       "      <th>min</th>\n",
       "      <td>1.000000</td>\n",
       "      <td>2.000000</td>\n",
       "    </tr>\n",
       "    <tr>\n",
       "      <th>25%</th>\n",
       "      <td>1.750000</td>\n",
       "      <td>2.750000</td>\n",
       "    </tr>\n",
       "    <tr>\n",
       "      <th>50%</th>\n",
       "      <td>2.500000</td>\n",
       "      <td>3.500000</td>\n",
       "    </tr>\n",
       "    <tr>\n",
       "      <th>75%</th>\n",
       "      <td>252.250000</td>\n",
       "      <td>4.250000</td>\n",
       "    </tr>\n",
       "    <tr>\n",
       "      <th>max</th>\n",
       "      <td>1000.000000</td>\n",
       "      <td>5.000000</td>\n",
       "    </tr>\n",
       "  </tbody>\n",
       "</table>\n",
       "</div>"
      ],
      "text/plain": [
       "                 A         B\n",
       "count     4.000000  4.000000\n",
       "mean    251.500000  3.500000\n",
       "std     499.000668  1.290994\n",
       "min       1.000000  2.000000\n",
       "25%       1.750000  2.750000\n",
       "50%       2.500000  3.500000\n",
       "75%     252.250000  4.250000\n",
       "max    1000.000000  5.000000"
      ]
     },
     "execution_count": 28,
     "metadata": {},
     "output_type": "execute_result"
    }
   ],
   "source": [
    "df.describe()"
   ]
  },
  {
   "cell_type": "markdown",
   "id": "d2b8313d",
   "metadata": {},
   "source": [
    "## Removing outliers (where Z-score > 3)"
   ]
  },
  {
   "cell_type": "code",
   "execution_count": 29,
   "id": "3aae96cb",
   "metadata": {},
   "outputs": [
    {
     "name": "stdout",
     "output_type": "stream",
     "text": [
      "\n",
      "DataFrame after removing outliers:\n",
      "      A  B\n",
      "0     1  2\n",
      "1     2  3\n",
      "2     3  4\n",
      "3  1000  5\n"
     ]
    }
   ],
   "source": [
    "df_no_outliers = df[(z_scores < 3).all(axis=1)]\n",
    "print(\"\\nDataFrame after removing outliers:\")\n",
    "print(df_no_outliers)"
   ]
  },
  {
   "cell_type": "markdown",
   "id": "b62bea42",
   "metadata": {},
   "source": [
    "# IQR"
   ]
  },
  {
   "cell_type": "code",
   "execution_count": 30,
   "id": "9bb6db93",
   "metadata": {},
   "outputs": [],
   "source": [
    "import pandas as pd\n",
    "\n",
    "# Example DataFrame\n",
    "data = {'A': [10, 12, 14, 16, 18, 20, 1000], 'B': [5, 6, 7, 8, 9, 10, 500]}\n",
    "df = pd.DataFrame(data)"
   ]
  },
  {
   "cell_type": "code",
   "execution_count": 31,
   "id": "7e5028cf",
   "metadata": {},
   "outputs": [],
   "source": [
    "# Identify outliers using IQR\n",
    "Q1 = df.quantile(0.25)\n",
    "Q3 = df.quantile(0.75)\n",
    "IQR = Q3 - Q1"
   ]
  },
  {
   "cell_type": "code",
   "execution_count": 32,
   "id": "3a162907",
   "metadata": {},
   "outputs": [],
   "source": [
    "# Filtering out outliers\n",
    "#lower bound Q1- 1.5 * IQR\n",
    "#upper bound Q3 + 1.5 * IQR\n",
    "df_no_outliers = df[~((df < (Q1 - 1.5 * IQR)) |(df > (Q3 + 1.5 * IQR))).any(axis=1)]"
   ]
  },
  {
   "cell_type": "code",
   "execution_count": 33,
   "id": "d3982fb7",
   "metadata": {},
   "outputs": [
    {
     "name": "stdout",
     "output_type": "stream",
     "text": [
      "Original DataFrame:\n",
      "      A    B\n",
      "0    10    5\n",
      "1    12    6\n",
      "2    14    7\n",
      "3    16    8\n",
      "4    18    9\n",
      "5    20   10\n",
      "6  1000  500\n",
      "\n",
      "DataFrame after removing outliers:\n",
      "    A   B\n",
      "0  10   5\n",
      "1  12   6\n",
      "2  14   7\n",
      "3  16   8\n",
      "4  18   9\n",
      "5  20  10\n"
     ]
    }
   ],
   "source": [
    "# Original DataFrame\n",
    "print(\"Original DataFrame:\")\n",
    "print(df)\n",
    "\n",
    "# DataFrame after removing outliers\n",
    "print(\"\\nDataFrame after removing outliers:\")\n",
    "print(df_no_outliers)"
   ]
  },
  {
   "cell_type": "markdown",
   "id": "2df4a78d",
   "metadata": {},
   "source": [
    "# Handling Inconsistent Data Types"
   ]
  },
  {
   "cell_type": "code",
   "execution_count": 1,
   "id": "bd490c2b",
   "metadata": {},
   "outputs": [],
   "source": [
    "import pandas as pd\n",
    "\n",
    "# Example DataFrame\n",
    "data = {'A': ['1', '2', 'three', '4'], 'B': ['1.1', '2.2', 'three', '4.4']}\n",
    "df = pd.DataFrame(data)"
   ]
  },
  {
   "cell_type": "code",
   "execution_count": 2,
   "id": "ed89e33d",
   "metadata": {},
   "outputs": [
    {
     "name": "stdout",
     "output_type": "stream",
     "text": [
      "Original DataFrame:\n",
      "       A      B\n",
      "0      1    1.1\n",
      "1      2    2.2\n",
      "2  three  three\n",
      "3      4    4.4\n"
     ]
    }
   ],
   "source": [
    "# Original DataFrame\n",
    "print(\"Original DataFrame:\")\n",
    "print(df)"
   ]
  },
  {
   "cell_type": "code",
   "execution_count": 8,
   "id": "4038e232",
   "metadata": {},
   "outputs": [
    {
     "name": "stdout",
     "output_type": "stream",
     "text": [
      "\n",
      "DataFrame after converting columns to numeric (forcing invalid to NaN):\n",
      "     A    B\n",
      "0  1.0  1.1\n",
      "1  2.0  2.2\n",
      "2  NaN  NaN\n",
      "3  4.0  4.4\n"
     ]
    }
   ],
   "source": [
    "# Converting to numeric, forcing invalid parsing to NaN\n",
    "df['A'] = pd.to_numeric(df['A'], errors='coerce') #errors='coerce': Converts invalid parsing to NaN (Not a Number).\n",
    "df['B'] = pd.to_numeric(df['B'], errors='coerce')\n",
    "print(\"\\nDataFrame after converting columns to numeric (forcing invalid to NaN):\")\n",
    "print(df)"
   ]
  },
  {
   "cell_type": "code",
   "execution_count": 9,
   "id": "d9889c10",
   "metadata": {},
   "outputs": [
    {
     "name": "stdout",
     "output_type": "stream",
     "text": [
      "\n",
      "DataFrame after dropping rows with NaN values:\n",
      "     A    B\n",
      "0  1.0  1.1\n",
      "1  2.0  2.2\n",
      "3  4.0  4.4\n"
     ]
    }
   ],
   "source": [
    "# Dropping or filling rows where conversion resulted in NaN\n",
    "df_cleaned = df.dropna()\n",
    "print(\"\\nDataFrame after dropping rows with NaN values:\")\n",
    "print(df_cleaned)"
   ]
  },
  {
   "cell_type": "markdown",
   "id": "2752e849",
   "metadata": {},
   "source": [
    "# Dropping Irrelevant Columns"
   ]
  },
  {
   "cell_type": "code",
   "execution_count": 10,
   "id": "83c3dc06",
   "metadata": {},
   "outputs": [],
   "source": [
    "import pandas as pd"
   ]
  },
  {
   "cell_type": "code",
   "execution_count": 11,
   "id": "3201c0db",
   "metadata": {},
   "outputs": [],
   "source": [
    "# Example DataFrame\n",
    "data = {'A': [1, 2, 3, 4], 'B': [1, 2, 3, 4], 'C': ['NotNeeded1', 'NotNeeded2', 'NotNeeded3', 'NotNeeded4']}\n",
    "df = pd.DataFrame(data)"
   ]
  },
  {
   "cell_type": "code",
   "execution_count": 12,
   "id": "002a897c",
   "metadata": {},
   "outputs": [
    {
     "name": "stdout",
     "output_type": "stream",
     "text": [
      "Original DataFrame:\n",
      "   A  B           C\n",
      "0  1  1  NotNeeded1\n",
      "1  2  2  NotNeeded2\n",
      "2  3  3  NotNeeded3\n",
      "3  4  4  NotNeeded4\n"
     ]
    }
   ],
   "source": [
    "# Original DataFrame\n",
    "print(\"Original DataFrame:\")\n",
    "print(df)"
   ]
  },
  {
   "cell_type": "code",
   "execution_count": 13,
   "id": "c1e5a930",
   "metadata": {},
   "outputs": [
    {
     "name": "stdout",
     "output_type": "stream",
     "text": [
      "\n",
      "DataFrame after dropping irrelevant columns:\n",
      "   A  B\n",
      "0  1  1\n",
      "1  2  2\n",
      "2  3  3\n",
      "3  4  4\n"
     ]
    }
   ],
   "source": [
    "# Dropping irrelevant columns\n",
    "df_cleaned = df.drop(columns=['C'])\n",
    "print(\"\\nDataFrame after dropping irrelevant columns:\")\n",
    "print(df_cleaned)"
   ]
  },
  {
   "cell_type": "markdown",
   "id": "11a7d91c",
   "metadata": {},
   "source": [
    "# Handling Inconsistent Data Formats"
   ]
  },
  {
   "cell_type": "code",
   "execution_count": 14,
   "id": "a4594799",
   "metadata": {},
   "outputs": [],
   "source": [
    "import pandas as pd"
   ]
  },
  {
   "cell_type": "code",
   "execution_count": 15,
   "id": "302e72f6",
   "metadata": {},
   "outputs": [],
   "source": [
    "# Example DataFrame\n",
    "data = {'Date': ['01/01/2020', '2020-02-01', 'March 3, 2020']}\n",
    "df = pd.DataFrame(data)"
   ]
  },
  {
   "cell_type": "code",
   "execution_count": 16,
   "id": "72da2cf2",
   "metadata": {},
   "outputs": [
    {
     "name": "stdout",
     "output_type": "stream",
     "text": [
      "Original DataFrame:\n",
      "            Date\n",
      "0     01/01/2020\n",
      "1     2020-02-01\n",
      "2  March 3, 2020\n"
     ]
    }
   ],
   "source": [
    "# Original DataFrame\n",
    "print(\"Original DataFrame:\")\n",
    "print(df)"
   ]
  },
  {
   "cell_type": "code",
   "execution_count": 17,
   "id": "eee36347",
   "metadata": {},
   "outputs": [
    {
     "name": "stdout",
     "output_type": "stream",
     "text": [
      "\n",
      "DataFrame after converting to a consistent date format:\n",
      "        Date\n",
      "0 2020-01-01\n",
      "1 2020-02-01\n",
      "2 2020-03-03\n"
     ]
    }
   ],
   "source": [
    "# Converting to a consistent date format\n",
    "df['Date'] = pd.to_datetime(df['Date'], errors='coerce')\n",
    "print(\"\\nDataFrame after converting to a consistent date format:\")\n",
    "print(df)"
   ]
  },
  {
   "cell_type": "markdown",
   "id": "6f7a690f",
   "metadata": {},
   "source": [
    "# Dropping one column"
   ]
  },
  {
   "cell_type": "code",
   "execution_count": 6,
   "id": "7c8785ea",
   "metadata": {},
   "outputs": [],
   "source": [
    "data = {'A': [1, 2, None, 4], 'B': [None, 2, 3, 4], 'C': [1, None, None, 4], 'D': [8, 0, 10, 3]}\n",
    "df = pd.DataFrame(data)"
   ]
  },
  {
   "cell_type": "code",
   "execution_count": 7,
   "id": "4462af95",
   "metadata": {},
   "outputs": [
    {
     "data": {
      "text/html": [
       "<div>\n",
       "<style scoped>\n",
       "    .dataframe tbody tr th:only-of-type {\n",
       "        vertical-align: middle;\n",
       "    }\n",
       "\n",
       "    .dataframe tbody tr th {\n",
       "        vertical-align: top;\n",
       "    }\n",
       "\n",
       "    .dataframe thead th {\n",
       "        text-align: right;\n",
       "    }\n",
       "</style>\n",
       "<table border=\"1\" class=\"dataframe\">\n",
       "  <thead>\n",
       "    <tr style=\"text-align: right;\">\n",
       "      <th></th>\n",
       "      <th>A</th>\n",
       "      <th>B</th>\n",
       "      <th>D</th>\n",
       "    </tr>\n",
       "  </thead>\n",
       "  <tbody>\n",
       "    <tr>\n",
       "      <th>0</th>\n",
       "      <td>1.0</td>\n",
       "      <td>NaN</td>\n",
       "      <td>8</td>\n",
       "    </tr>\n",
       "    <tr>\n",
       "      <th>1</th>\n",
       "      <td>2.0</td>\n",
       "      <td>2.0</td>\n",
       "      <td>0</td>\n",
       "    </tr>\n",
       "    <tr>\n",
       "      <th>2</th>\n",
       "      <td>NaN</td>\n",
       "      <td>3.0</td>\n",
       "      <td>10</td>\n",
       "    </tr>\n",
       "    <tr>\n",
       "      <th>3</th>\n",
       "      <td>4.0</td>\n",
       "      <td>4.0</td>\n",
       "      <td>3</td>\n",
       "    </tr>\n",
       "  </tbody>\n",
       "</table>\n",
       "</div>"
      ],
      "text/plain": [
       "     A    B   D\n",
       "0  1.0  NaN   8\n",
       "1  2.0  2.0   0\n",
       "2  NaN  3.0  10\n",
       "3  4.0  4.0   3"
      ]
     },
     "execution_count": 7,
     "metadata": {},
     "output_type": "execute_result"
    }
   ],
   "source": [
    "df.drop('C', axis = 1)"
   ]
  },
  {
   "cell_type": "markdown",
   "id": "1e5f7241",
   "metadata": {},
   "source": [
    "# Dropping multiple column"
   ]
  },
  {
   "cell_type": "code",
   "execution_count": 8,
   "id": "ef2054d9",
   "metadata": {},
   "outputs": [
    {
     "data": {
      "text/html": [
       "<div>\n",
       "<style scoped>\n",
       "    .dataframe tbody tr th:only-of-type {\n",
       "        vertical-align: middle;\n",
       "    }\n",
       "\n",
       "    .dataframe tbody tr th {\n",
       "        vertical-align: top;\n",
       "    }\n",
       "\n",
       "    .dataframe thead th {\n",
       "        text-align: right;\n",
       "    }\n",
       "</style>\n",
       "<table border=\"1\" class=\"dataframe\">\n",
       "  <thead>\n",
       "    <tr style=\"text-align: right;\">\n",
       "      <th></th>\n",
       "      <th>A</th>\n",
       "      <th>C</th>\n",
       "    </tr>\n",
       "  </thead>\n",
       "  <tbody>\n",
       "    <tr>\n",
       "      <th>0</th>\n",
       "      <td>1.0</td>\n",
       "      <td>1.0</td>\n",
       "    </tr>\n",
       "    <tr>\n",
       "      <th>1</th>\n",
       "      <td>2.0</td>\n",
       "      <td>NaN</td>\n",
       "    </tr>\n",
       "    <tr>\n",
       "      <th>2</th>\n",
       "      <td>NaN</td>\n",
       "      <td>NaN</td>\n",
       "    </tr>\n",
       "    <tr>\n",
       "      <th>3</th>\n",
       "      <td>4.0</td>\n",
       "      <td>4.0</td>\n",
       "    </tr>\n",
       "  </tbody>\n",
       "</table>\n",
       "</div>"
      ],
      "text/plain": [
       "     A    C\n",
       "0  1.0  1.0\n",
       "1  2.0  NaN\n",
       "2  NaN  NaN\n",
       "3  4.0  4.0"
      ]
     },
     "execution_count": 8,
     "metadata": {},
     "output_type": "execute_result"
    }
   ],
   "source": [
    "df.drop(['D','B'], axis = 1)"
   ]
  },
  {
   "cell_type": "markdown",
   "id": "db9bfd84",
   "metadata": {},
   "source": [
    "# Dropping one row"
   ]
  },
  {
   "cell_type": "code",
   "execution_count": 9,
   "id": "2839be12",
   "metadata": {},
   "outputs": [
    {
     "data": {
      "text/html": [
       "<div>\n",
       "<style scoped>\n",
       "    .dataframe tbody tr th:only-of-type {\n",
       "        vertical-align: middle;\n",
       "    }\n",
       "\n",
       "    .dataframe tbody tr th {\n",
       "        vertical-align: top;\n",
       "    }\n",
       "\n",
       "    .dataframe thead th {\n",
       "        text-align: right;\n",
       "    }\n",
       "</style>\n",
       "<table border=\"1\" class=\"dataframe\">\n",
       "  <thead>\n",
       "    <tr style=\"text-align: right;\">\n",
       "      <th></th>\n",
       "      <th>A</th>\n",
       "      <th>B</th>\n",
       "      <th>C</th>\n",
       "      <th>D</th>\n",
       "    </tr>\n",
       "  </thead>\n",
       "  <tbody>\n",
       "    <tr>\n",
       "      <th>0</th>\n",
       "      <td>1.0</td>\n",
       "      <td>NaN</td>\n",
       "      <td>1.0</td>\n",
       "      <td>8</td>\n",
       "    </tr>\n",
       "    <tr>\n",
       "      <th>1</th>\n",
       "      <td>2.0</td>\n",
       "      <td>2.0</td>\n",
       "      <td>NaN</td>\n",
       "      <td>0</td>\n",
       "    </tr>\n",
       "    <tr>\n",
       "      <th>3</th>\n",
       "      <td>4.0</td>\n",
       "      <td>4.0</td>\n",
       "      <td>4.0</td>\n",
       "      <td>3</td>\n",
       "    </tr>\n",
       "  </tbody>\n",
       "</table>\n",
       "</div>"
      ],
      "text/plain": [
       "     A    B    C  D\n",
       "0  1.0  NaN  1.0  8\n",
       "1  2.0  2.0  NaN  0\n",
       "3  4.0  4.0  4.0  3"
      ]
     },
     "execution_count": 9,
     "metadata": {},
     "output_type": "execute_result"
    }
   ],
   "source": [
    "df.drop(2, axis = 0)"
   ]
  },
  {
   "cell_type": "markdown",
   "id": "b86f4f40",
   "metadata": {},
   "source": [
    "# Dropping multiple rows"
   ]
  },
  {
   "cell_type": "code",
   "execution_count": 12,
   "id": "6386fd41",
   "metadata": {},
   "outputs": [
    {
     "data": {
      "text/html": [
       "<div>\n",
       "<style scoped>\n",
       "    .dataframe tbody tr th:only-of-type {\n",
       "        vertical-align: middle;\n",
       "    }\n",
       "\n",
       "    .dataframe tbody tr th {\n",
       "        vertical-align: top;\n",
       "    }\n",
       "\n",
       "    .dataframe thead th {\n",
       "        text-align: right;\n",
       "    }\n",
       "</style>\n",
       "<table border=\"1\" class=\"dataframe\">\n",
       "  <thead>\n",
       "    <tr style=\"text-align: right;\">\n",
       "      <th></th>\n",
       "      <th>A</th>\n",
       "      <th>B</th>\n",
       "      <th>C</th>\n",
       "      <th>D</th>\n",
       "    </tr>\n",
       "  </thead>\n",
       "  <tbody>\n",
       "    <tr>\n",
       "      <th>3</th>\n",
       "      <td>4.0</td>\n",
       "      <td>4.0</td>\n",
       "      <td>4.0</td>\n",
       "      <td>3</td>\n",
       "    </tr>\n",
       "  </tbody>\n",
       "</table>\n",
       "</div>"
      ],
      "text/plain": [
       "     A    B    C  D\n",
       "3  4.0  4.0  4.0  3"
      ]
     },
     "execution_count": 12,
     "metadata": {},
     "output_type": "execute_result"
    }
   ],
   "source": [
    "df.drop([2, 1, 0], axis = 0)"
   ]
  },
  {
   "cell_type": "markdown",
   "id": "e4f6b88b",
   "metadata": {},
   "source": [
    "# Rename the column"
   ]
  },
  {
   "cell_type": "code",
   "execution_count": 13,
   "id": "e7962224",
   "metadata": {},
   "outputs": [
    {
     "data": {
      "text/html": [
       "<div>\n",
       "<style scoped>\n",
       "    .dataframe tbody tr th:only-of-type {\n",
       "        vertical-align: middle;\n",
       "    }\n",
       "\n",
       "    .dataframe tbody tr th {\n",
       "        vertical-align: top;\n",
       "    }\n",
       "\n",
       "    .dataframe thead th {\n",
       "        text-align: right;\n",
       "    }\n",
       "</style>\n",
       "<table border=\"1\" class=\"dataframe\">\n",
       "  <thead>\n",
       "    <tr style=\"text-align: right;\">\n",
       "      <th></th>\n",
       "      <th>A</th>\n",
       "      <th>B</th>\n",
       "      <th>C</th>\n",
       "      <th>Z</th>\n",
       "    </tr>\n",
       "  </thead>\n",
       "  <tbody>\n",
       "    <tr>\n",
       "      <th>0</th>\n",
       "      <td>1.0</td>\n",
       "      <td>NaN</td>\n",
       "      <td>1.0</td>\n",
       "      <td>8</td>\n",
       "    </tr>\n",
       "    <tr>\n",
       "      <th>1</th>\n",
       "      <td>2.0</td>\n",
       "      <td>2.0</td>\n",
       "      <td>NaN</td>\n",
       "      <td>0</td>\n",
       "    </tr>\n",
       "    <tr>\n",
       "      <th>2</th>\n",
       "      <td>NaN</td>\n",
       "      <td>3.0</td>\n",
       "      <td>NaN</td>\n",
       "      <td>10</td>\n",
       "    </tr>\n",
       "    <tr>\n",
       "      <th>3</th>\n",
       "      <td>4.0</td>\n",
       "      <td>4.0</td>\n",
       "      <td>4.0</td>\n",
       "      <td>3</td>\n",
       "    </tr>\n",
       "  </tbody>\n",
       "</table>\n",
       "</div>"
      ],
      "text/plain": [
       "     A    B    C   Z\n",
       "0  1.0  NaN  1.0   8\n",
       "1  2.0  2.0  NaN   0\n",
       "2  NaN  3.0  NaN  10\n",
       "3  4.0  4.0  4.0   3"
      ]
     },
     "execution_count": 13,
     "metadata": {},
     "output_type": "execute_result"
    }
   ],
   "source": [
    "df.rename(columns = {'D':'Z'})"
   ]
  },
  {
   "cell_type": "markdown",
   "id": "14322a7d",
   "metadata": {},
   "source": [
    "# Rename multiple column"
   ]
  },
  {
   "cell_type": "code",
   "execution_count": 14,
   "id": "cf1b2c93",
   "metadata": {},
   "outputs": [
    {
     "data": {
      "text/html": [
       "<div>\n",
       "<style scoped>\n",
       "    .dataframe tbody tr th:only-of-type {\n",
       "        vertical-align: middle;\n",
       "    }\n",
       "\n",
       "    .dataframe tbody tr th {\n",
       "        vertical-align: top;\n",
       "    }\n",
       "\n",
       "    .dataframe thead th {\n",
       "        text-align: right;\n",
       "    }\n",
       "</style>\n",
       "<table border=\"1\" class=\"dataframe\">\n",
       "  <thead>\n",
       "    <tr style=\"text-align: right;\">\n",
       "      <th></th>\n",
       "      <th>W</th>\n",
       "      <th>X</th>\n",
       "      <th>Y</th>\n",
       "      <th>Z</th>\n",
       "    </tr>\n",
       "  </thead>\n",
       "  <tbody>\n",
       "    <tr>\n",
       "      <th>0</th>\n",
       "      <td>1.0</td>\n",
       "      <td>NaN</td>\n",
       "      <td>1.0</td>\n",
       "      <td>8</td>\n",
       "    </tr>\n",
       "    <tr>\n",
       "      <th>1</th>\n",
       "      <td>2.0</td>\n",
       "      <td>2.0</td>\n",
       "      <td>NaN</td>\n",
       "      <td>0</td>\n",
       "    </tr>\n",
       "    <tr>\n",
       "      <th>2</th>\n",
       "      <td>NaN</td>\n",
       "      <td>3.0</td>\n",
       "      <td>NaN</td>\n",
       "      <td>10</td>\n",
       "    </tr>\n",
       "    <tr>\n",
       "      <th>3</th>\n",
       "      <td>4.0</td>\n",
       "      <td>4.0</td>\n",
       "      <td>4.0</td>\n",
       "      <td>3</td>\n",
       "    </tr>\n",
       "  </tbody>\n",
       "</table>\n",
       "</div>"
      ],
      "text/plain": [
       "     W    X    Y   Z\n",
       "0  1.0  NaN  1.0   8\n",
       "1  2.0  2.0  NaN   0\n",
       "2  NaN  3.0  NaN  10\n",
       "3  4.0  4.0  4.0   3"
      ]
     },
     "execution_count": 14,
     "metadata": {},
     "output_type": "execute_result"
    }
   ],
   "source": [
    "df.rename(columns = {'D':'Z', 'A':'W', 'B':'X', 'C':'Y'})"
   ]
  },
  {
   "cell_type": "code",
   "execution_count": null,
   "id": "3fddcf0f",
   "metadata": {},
   "outputs": [],
   "source": []
  }
 ],
 "metadata": {
  "kernelspec": {
   "display_name": "Python 3 (ipykernel)",
   "language": "python",
   "name": "python3"
  },
  "language_info": {
   "codemirror_mode": {
    "name": "ipython",
    "version": 3
   },
   "file_extension": ".py",
   "mimetype": "text/x-python",
   "name": "python",
   "nbconvert_exporter": "python",
   "pygments_lexer": "ipython3",
   "version": "3.9.13"
  }
 },
 "nbformat": 4,
 "nbformat_minor": 5
}
